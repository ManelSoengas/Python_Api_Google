{
  "nbformat": 4,
  "nbformat_minor": 0,
  "metadata": {
    "colab": {
      "provenance": [],
      "authorship_tag": "ABX9TyNU9oRDQls7i/74c4ireRtt",
      "include_colab_link": true
    },
    "kernelspec": {
      "name": "python3",
      "display_name": "Python 3"
    },
    "language_info": {
      "name": "python"
    }
  },
  "cells": [
    {
      "cell_type": "markdown",
      "metadata": {
        "id": "view-in-github",
        "colab_type": "text"
      },
      "source": [
        "<a href=\"https://colab.research.google.com/github/ManelSoengas/Python_Api_Google/blob/main/Python_to_Drive.ipynb\" target=\"_parent\"><img src=\"https://colab.research.google.com/assets/colab-badge.svg\" alt=\"Open In Colab\"/></a>"
      ]
    },
    {
      "cell_type": "markdown",
      "source": [
        "# **Reading a Google spreadsheet from Python**\n",
        "\n",
        "\n",
        "---\n",
        "\n",
        "Read records from the spreadsheet to convert it into a dataframe. From the dataframe, data can be analysed using graphs, calculations, searching for patterns, etc."
      ],
      "metadata": {
        "id": "tff1gHM6fWCI"
      }
    },
    {
      "cell_type": "code",
      "execution_count": 1,
      "metadata": {
        "id": "87qPx8xTcXZw"
      },
      "outputs": [],
      "source": [
        "import gspread\n",
        "from oauth2client.service_account import ServiceAccountCredentials\n",
        "\n",
        "\n"
      ]
    },
    {
      "cell_type": "markdown",
      "source": [
        "**Filename**: Name of the spreadsheet. Must exist.\n",
        "\n",
        "**api_key.json**: File with the access credentials. The file must be created, in json format, from the development management console."
      ],
      "metadata": {
        "id": "3hvM2pASif4-"
      }
    },
    {
      "cell_type": "code",
      "source": [
        "\n",
        "\n",
        "scope = [\"https://spreadsheets.google.com/feeds\",'https://www.googleapis.com/auth/spreadsheets',\"https://www.googleapis.com/auth/drive.file\",\"https://www.googleapis.com/auth/drive\"]\n",
        "creds = ServiceAccountCredentials.from_json_keyfile_name(\"api_key.json\", scope)\n",
        "client = gspread.authorize(creds)\n",
        "sheet = client.open(\"filename\").sheet1  #Open spreadhseet\n",
        "data = sheet.get_all_records()  #Obtain data records.\n",
        "data = sheet.get_all_records()\n",
        "\n",
        "# Convert the data to a pandas DataFrame\n",
        "df = pd.DataFrame(data)\n",
        "\n",
        "# Display the DataFrame\n",
        "print(df)\n"
      ],
      "metadata": {
        "id": "PdMCUf5JcbIj"
      },
      "execution_count": null,
      "outputs": []
    },
    {
      "cell_type": "markdown",
      "source": [],
      "metadata": {
        "id": "NABpY8XGfTTR"
      }
    },
    {
      "cell_type": "markdown",
      "source": [
        "More information at https://proyectobeta.xyz/conectar-a-google-sheets-de-drive-desde-python/"
      ],
      "metadata": {
        "id": "ETW1eHW8hlaq"
      }
    }
  ]
}